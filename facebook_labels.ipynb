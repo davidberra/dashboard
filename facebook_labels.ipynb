{
 "cells": [
  {
   "cell_type": "markdown",
   "metadata": {
    "toc": true
   },
   "source": [
    "<h1>Table of Contents<span class=\"tocSkip\"></span></h1>\n",
    "<div class=\"toc\"><ul class=\"toc-item\"><li><span><a href=\"#Visualizing-Labels-produced-by-Dandelion,-using-fbTREX-semantic-API.\" data-toc-modified-id=\"Visualizing-Labels-produced-by-Dandelion,-using-fbTREX-semantic-API.-1\"><span class=\"toc-item-num\">1&nbsp;&nbsp;</span>Visualizing Labels produced by Dandelion, using fbTREX semantic API.</a></span><ul class=\"toc-item\"><li><ul class=\"toc-item\"><li><span><a href=\"#First-of-all,-let's-combine-the-data-the-data-for-two-users-and-take-a-look-at-the-dataset.\" data-toc-modified-id=\"First-of-all,-let's-combine-the-data-the-data-for-two-users-and-take-a-look-at-the-dataset.-1.0.1\"><span class=\"toc-item-num\">1.0.1&nbsp;&nbsp;</span>First of all, let's combine the data the data for two users and take a look at the dataset.</a></span></li><li><span><a href=\"#The-we-group-by-word-and-get-the-n-top-labels-for-each-user,-each-day.\" data-toc-modified-id=\"The-we-group-by-word-and-get-the-n-top-labels-for-each-user,-each-day.-1.0.2\"><span class=\"toc-item-num\">1.0.2&nbsp;&nbsp;</span>The we group by word and get the n top labels for each user, each day.</a></span></li><li><span><a href=\"#Panoramic-of-top-labels-per-user.\" data-toc-modified-id=\"Panoramic-of-top-labels-per-user.-1.0.3\"><span class=\"toc-item-num\">1.0.3&nbsp;&nbsp;</span>Panoramic of top labels per user.</a></span></li><li><span><a href=\"#Compare-how-specific-words-have-been-appearing-on-two-different-users-timelines.\" data-toc-modified-id=\"Compare-how-specific-words-have-been-appearing-on-two-different-users-timelines.-1.0.4\"><span class=\"toc-item-num\">1.0.4&nbsp;&nbsp;</span>Compare how specific words have been appearing on two different users timelines.</a></span></li><li><span><a href=\"#At-an-higher-level,-we-can-also-just-compare-the-top-contents-of-the-two-users-Newsfeed.\" data-toc-modified-id=\"At-an-higher-level,-we-can-also-just-compare-the-top-contents-of-the-two-users-Newsfeed.-1.0.5\"><span class=\"toc-item-num\">1.0.5&nbsp;&nbsp;</span>At an higher level, we can also just compare the top contents of the two users Newsfeed.</a></span></li></ul></li><li><span><a href=\"#You-can-also-make-a-Dandelion-labels-wordcloud.\" data-toc-modified-id=\"You-can-also-make-a-Dandelion-labels-wordcloud.-1.1\"><span class=\"toc-item-num\">1.1&nbsp;&nbsp;</span>You can also make a Dandelion labels wordcloud.</a></span></li></ul></li></ul></div>"
   ]
  },
  {
   "cell_type": "markdown",
   "metadata": {},
   "source": [
    "# Visualizing Labels produced by Dandelion, using fbTREX semantic API.\n",
    "\n",
    "First of all we load the usual libraries, and the output csvs of labels.py for two different users.\n",
    "\n",
    "In this example, we use the sample dataset. You can change the paths for file1 and file2, as well as the number of top sources to get for both of the users.\n",
    "\n",
    "Then we build a dataframe containing the n top sources per day for the two different users."
   ]
  },
  {
   "cell_type": "markdown",
   "metadata": {},
   "source": [
    "### First of all, let's combine the data the data for two users and take a look at the dataset."
   ]
  },
  {
   "cell_type": "code",
   "execution_count": null,
   "metadata": {},
   "outputs": [],
   "source": [
    "# import libraries\n",
    "import pandas as pd\n",
    "import altair as alt\n",
    "alt.renderers.enable('notebook')\n",
    "\n",
    "# configure files location and number of top labels to get.\n",
    "file1 = 'sample_data/user_a_labels.csv'\n",
    "file2 = 'sample_data/user_b_labels.csv'\n",
    "top = 5\n",
    "\n",
    "# load the data\n",
    "df1 = pd.read_csv(file1)\n",
    "df2 = pd.read_csv(file2)\n",
    "df = pd.concat([df1, df2])\n",
    "\n",
    "df.head()"
   ]
  },
  {
   "cell_type": "markdown",
   "metadata": {},
   "source": [
    "### The we group by word and get the n top labels for each user, each day."
   ]
  },
  {
   "cell_type": "code",
   "execution_count": null,
   "metadata": {},
   "outputs": [],
   "source": [
    "# filter out to get only top n labels\n",
    "\n",
    "keep_list = df1.groupby('word')['count'].sum().nlargest(5).index.tolist()\n",
    "df1 = df1[df1['word'].isin(keep_list)]\n",
    "keep_list = df2.groupby('word')['count'].sum().nlargest(5).index.tolist()\n",
    "df2 = df2[df2['word'].isin(keep_list)]\n",
    "\n",
    "top = pd.concat([df1, df2])"
   ]
  },
  {
   "cell_type": "markdown",
   "metadata": {},
   "source": [
    "### Panoramic of top labels per user."
   ]
  },
  {
   "cell_type": "code",
   "execution_count": null,
   "metadata": {},
   "outputs": [],
   "source": [
    "alt.Chart(top).mark_line().encode(\n",
    "    x='impressionTime:T',\n",
    "    y='count:Q',\n",
    "    color='word:N',\n",
    "    row='user:N'\n",
    ").properties(\n",
    "    width = 600,\n",
    "    height = 450\n",
    ")"
   ]
  },
  {
   "cell_type": "markdown",
   "metadata": {},
   "source": [
    "### Compare how specific words have been appearing on two different users timelines.\n",
    "\n",
    "Choose a list of words (in this example, 'Barcelona' and 'Partido Popular').\n",
    "Then we show the trending of the two words on the two users profiles."
   ]
  },
  {
   "cell_type": "code",
   "execution_count": null,
   "metadata": {},
   "outputs": [],
   "source": [
    "words_list = ['Barcelona', 'Partido Popular']\n",
    "\n",
    "filtered = df[df['word'].isin(words_list)]\n",
    "alt.Chart(filtered).mark_line().encode(\n",
    "    x='impressionTime:T',\n",
    "    y='count:Q',\n",
    "    color='user:N',\n",
    "    row='word:N'\n",
    ").properties(\n",
    "    width = 600,\n",
    "    height = 300\n",
    ")"
   ]
  },
  {
   "cell_type": "markdown",
   "metadata": {},
   "source": [
    "### At an higher level, we can also just compare the top contents of the two users Newsfeed."
   ]
  },
  {
   "cell_type": "code",
   "execution_count": null,
   "metadata": {},
   "outputs": [],
   "source": [
    "\n",
    "df1 = df1.sort_values('count', axis=0, ascending=False)\n",
    "df2 = df2.sort_values('count', axis=0, ascending=False)\n",
    "\n",
    "user1 = alt.Chart(df1).mark_bar().encode(\n",
    "    x='count:Q',\n",
    "    y=alt.Y(\n",
    "        'word:N',\n",
    "        sort=alt.SortField(\n",
    "            field=\"count:Q\",\n",
    "            order=\"descending\"\n",
    "        )\n",
    "    )\n",
    ").properties(title=df1.user.value_counts().idxmax())\n",
    "\n",
    "user2 = alt.Chart(df2).mark_bar().encode(\n",
    "    x='count:Q',\n",
    "    y=alt.Y(\n",
    "        'word:N',\n",
    "        sort=alt.SortField(\n",
    "            field=\"count:Q\",\n",
    "            order=\"descending\"\n",
    "        )\n",
    "    )\n",
    ").properties(title=df2.user.value_counts().idxmax())\n",
    "\n",
    "user1 & user2"
   ]
  },
  {
   "cell_type": "markdown",
   "metadata": {},
   "source": [
    "## You can also make a Dandelion labels wordcloud."
   ]
  },
  {
   "cell_type": "code",
   "execution_count": null,
   "metadata": {},
   "outputs": [],
   "source": [
    "from wordcloud import WordCloud\n",
    "import matplotlib.pyplot as plt\n",
    "\n",
    "\n",
    "venn = df1.word.str.join(sep='').reset_index()\n",
    "print(venn)\n",
    "venn.columns = ['date', 'words']\n",
    "venn = venn.words.str.cat(sep=' ')\n",
    "\n",
    "wordcloud = WordCloud(font_path='src/fonts/DejaVuSans.ttf',\n",
    "                      relative_scaling = 1.0\n",
    "                      ).generate(venn)\n",
    "plt.imshow(wordcloud)\n",
    "plt.axis(\"off\")\n",
    "plt.title('User '+df1.user.value_counts().idxmax())\n",
    "\n"
   ]
  },
  {
   "cell_type": "code",
   "execution_count": null,
   "metadata": {},
   "outputs": [],
   "source": []
  }
 ],
 "metadata": {
  "kernelspec": {
   "display_name": "Python 3",
   "language": "python",
   "name": "python3"
  },
  "language_info": {
   "codemirror_mode": {
    "name": "ipython",
    "version": 3
   },
   "file_extension": ".py",
   "mimetype": "text/x-python",
   "name": "python",
   "nbconvert_exporter": "python",
   "pygments_lexer": "ipython3",
   "version": "3.6.8"
  },
  "toc": {
   "base_numbering": 1,
   "nav_menu": {},
   "number_sections": true,
   "sideBar": true,
   "skip_h1_title": false,
   "title_cell": "Table of Contents",
   "title_sidebar": "Contents",
   "toc_cell": true,
   "toc_position": {},
   "toc_section_display": true,
   "toc_window_display": true
  }
 },
 "nbformat": 4,
 "nbformat_minor": 2
}
