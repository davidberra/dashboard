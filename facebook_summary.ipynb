{
 "cells": [
  {
   "cell_type": "markdown",
   "metadata": {},
   "source": [
    "# Getting your data"
   ]
  },
  {
   "cell_type": "markdown",
   "metadata": {},
   "source": [
    "To run any script and to query the API in general, you will need a token. A code is generated every time you install the facebook.tracking.exposed\n",
    "\n",
    "You can use the test one or enter you own. Read this if you don't know how to get your token: link."
   ]
  },
  {
   "cell_type": "markdown",
   "metadata": {},
   "source": [
    "#### Use the script download_facebook.py in src/ to download the data, then locate the csv file."
   ]
  },
  {
   "cell_type": "code",
   "execution_count": null,
   "metadata": {},
   "outputs": [],
   "source": [
    "summary_path = 'sample_data/facebook_summary.csv'"
   ]
  },
  {
   "cell_type": "markdown",
   "metadata": {},
   "source": [
    "Import the necessary libraries. In this example we commented out the hierarchical configuration used to call scripts from the command line."
   ]
  },
  {
   "cell_type": "code",
   "execution_count": null,
   "metadata": {},
   "outputs": [],
   "source": [
    "import pandas as pd\n",
    "from src.lib import API, tools\n",
    "# from src.lib.config import config\n",
    "import datetime\n",
    "\n",
    "print('Done!')"
   ]
  },
  {
   "cell_type": "markdown",
   "metadata": {},
   "source": [
    "Now, we read the csv downloaded with facebook_download.py, remember that you can choose the amount of entries to retrieve by using the parameters --amount and --skip."
   ]
  },
  {
   "cell_type": "code",
   "execution_count": null,
   "metadata": {},
   "outputs": [],
   "source": [
    "df = pd.read_csv(summary_path)\n",
    "print('Done!')"
   ]
  },
  {
   "cell_type": "markdown",
   "metadata": {},
   "source": [
    "This is how the data looks like:"
   ]
  },
  {
   "cell_type": "code",
   "execution_count": null,
   "metadata": {},
   "outputs": [],
   "source": [
    "from IPython.display import display\n",
    "\n",
    "display(df.head())"
   ]
  },
  {
   "cell_type": "markdown",
   "metadata": {},
   "source": [
    "## Manipulating dates"
   ]
  },
  {
   "cell_type": "markdown",
   "metadata": {},
   "source": [
    "Now you can check the timeframe of the data you pulled."
   ]
  },
  {
   "cell_type": "code",
   "execution_count": null,
   "metadata": {},
   "outputs": [],
   "source": [
    "\n",
    "df = tools.setDatetimeIndex(df)\n",
    "maxDate = df.index.max()\n",
    "minDate = df.index.min()\n",
    "print('Information for timeframe: '+str(minDate)[:-6]+' to '+str(maxDate)[:-6])"
   ]
  },
  {
   "cell_type": "markdown",
   "metadata": {},
   "source": [
    "OPTIONALLY, you can also cut it to get, in this example, the last 24 hours only."
   ]
  },
  {
   "cell_type": "code",
   "execution_count": null,
   "metadata": {},
   "outputs": [],
   "source": [
    "start = maxDate-datetime.timedelta(days=1)\n",
    "end = maxDate\n",
    "df = tools.setTimeframe(df, str(start), str(end))\n",
    "print('From '+str(start)+' to '+str(end)+'\\n')"
   ]
  },
  {
   "cell_type": "markdown",
   "metadata": {},
   "source": [
    "## Your stats"
   ]
  },
  {
   "cell_type": "markdown",
   "metadata": {},
   "source": [
    "You can get useful insights for yourself, for example you can estimate the you time spent of facebook during that timeframe."
   ]
  },
  {
   "cell_type": "code",
   "execution_count": null,
   "metadata": {},
   "outputs": [],
   "source": [
    "timelines = df.timeline.unique()\n",
    "total = pd.to_timedelta(0)\n",
    "\n",
    "for t in timelines:\n",
    "    ndf = tools.filter(t, df=df, what='timeline', kind='or')\n",
    "    timespent = ndf.index.max() - ndf.index.min()\n",
    "    total += timespent\n",
    "    \n",
    "print('Time spent on Facebook in this timeframe: '+str(total))"
   ]
  },
  {
   "cell_type": "markdown",
   "metadata": {},
   "source": [
    "Or the time spent watching ads."
   ]
  },
  {
   "cell_type": "code",
   "execution_count": null,
   "metadata": {},
   "outputs": [],
   "source": [
    "nature = df.nature.value_counts()\n",
    "\n",
    "try:\n",
    "    percentage = str((nature.sponsored/nature.organic)*100)[:-12]\n",
    "except:\n",
    "    nature['sponsored'] = 0\n",
    "    percentage = str((nature.sponsored/nature.organic)*100)\n",
    "    \n",
    "print(percentage+'% of the posts are sponsored posts.')\n",
    "\n",
    "timeads = (total.seconds)*(nature.sponsored/nature.organic)\n",
    "print('You spent an estimate of '+str(datetime.timedelta(seconds=(timeads)))[:-7]+' watching ads on Facebook.')"
   ]
  },
  {
   "cell_type": "markdown",
   "metadata": {},
   "source": [
    "You can also check which are the top news that are informing you."
   ]
  },
  {
   "cell_type": "code",
   "execution_count": null,
   "metadata": {},
   "outputs": [],
   "source": [
    "n = 5\n",
    "top = df.source.value_counts().nlargest(n)\n",
    "print('Top '+str(n)+' sources of information are: \\n'+top.to_string())"
   ]
  },
  {
   "cell_type": "markdown",
   "metadata": {},
   "source": [
    "Of course, you can display this data graphically. (Run field twice if it doesn't work)."
   ]
  },
  {
   "cell_type": "code",
   "execution_count": null,
   "metadata": {},
   "outputs": [],
   "source": [
    "top.plot.pie(autopct='%.2f', fontsize=13, figsize=(6, 6))"
   ]
  },
  {
   "cell_type": "markdown",
   "metadata": {},
   "source": [
    "## Experimenting with altair viz tools\n",
    "\n",
    "Exploring seen posts"
   ]
  },
  {
   "cell_type": "code",
   "execution_count": null,
   "metadata": {},
   "outputs": [],
   "source": [
    "import altair as alt\n",
    "\n",
    "# for the notebook only (not for JupyterLab) run this command once per session\n",
    "alt.renderers.enable('notebook')\n",
    "\n",
    "alt.Chart(df).mark_circle().encode(\n",
    "    x='impressionTime:T',\n",
    "    y='LIKE:Q',\n",
    "    color='source:N'\n",
    ").interactive()"
   ]
  },
  {
   "cell_type": "code",
   "execution_count": null,
   "metadata": {},
   "outputs": [],
   "source": [
    "df['count'] = df.groupby('postId')['postId'].transform('count')\n",
    "\n",
    "alt.Chart(df).transform_calculate(\n",
    "    url='https://www.facebook.com' + alt.datum.permaLink\n",
    ").mark_circle().encode(\n",
    "    y='count:Q',\n",
    "    x='average(impressionOrder):Q',\n",
    "    color='source:N',\n",
    "#     size='LIKE:Q',\n",
    "    href='url:N',\n",
    "    tooltip=['source:N', 'url:N']\n",
    ").interactive()"
   ]
  },
  {
   "cell_type": "markdown",
   "metadata": {},
   "source": [
    "## Creating wordclouds with the text of the posts"
   ]
  },
  {
   "cell_type": "code",
   "execution_count": null,
   "metadata": {},
   "outputs": [],
   "source": [
    "#import necessary modules\n",
    "import matplotlib.pyplot as plt\n",
    "from wordcloud import WordCloud\n",
    "from stop_words import get_stop_words\n",
    "\n",
    "# get the stopwords for your language\n",
    "stop_words = get_stop_words('es')\n",
    "\n",
    "# define the function \n",
    "def generate_wordcloud(text):\n",
    "    wordcloud = WordCloud(font_path='src/fonts/DejaVuSans.ttf',\n",
    "                          relative_scaling = 1.0,\n",
    "                          stopwords = stop_words # set or space-separated string\n",
    "                          ).generate(text)\n",
    "    plt.imshow(wordcloud)\n",
    "    plt.axis(\"off\")\n",
    "    plt.show()\n",
    "    \n",
    "text = df.texts.str.join(sep='').reset_index()\n",
    "# .str().join(sep=',').reset_index()\n",
    "print(text)\n",
    "text.columns = ['date', 'words']\n",
    "text = text.words.str.cat(sep=' ')\n",
    "\n",
    "generate_wordcloud(text)"
   ]
  },
  {
   "cell_type": "code",
   "execution_count": null,
   "metadata": {},
   "outputs": [],
   "source": []
  }
 ],
 "metadata": {
  "kernelspec": {
   "display_name": "Python 3",
   "language": "python",
   "name": "python3"
  },
  "language_info": {
   "codemirror_mode": {
    "name": "ipython",
    "version": 3
   },
   "file_extension": ".py",
   "mimetype": "text/x-python",
   "name": "python",
   "nbconvert_exporter": "python",
   "pygments_lexer": "ipython3",
   "version": "3.7.4"
  }
 },
 "nbformat": 4,
 "nbformat_minor": 2
}
