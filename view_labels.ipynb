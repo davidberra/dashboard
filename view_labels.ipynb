{
 "cells": [
  {
   "cell_type": "markdown",
   "metadata": {},
   "source": [
    "# Visualizing Labels produced by Dandelion, using fbTREX semantic API.\n",
    "\n",
    "First of all we load the usual libraries, and the output csvs of labels.py for two different users.\n",
    "\n",
    "In this example, we use the sample dataset. You can change the paths for file1 and file2, as well as the number of top sources to get for both of the users.\n",
    "\n",
    "Then we build a dataframe containing the n top sources per day for the two different users."
   ]
  },
  {
   "cell_type": "code",
   "execution_count": null,
   "metadata": {},
   "outputs": [],
   "source": [
    "# import libraries\n",
    "import pandas as pd\n",
    "import altair as alt\n",
    "alt.renderers.enable('notebook')\n",
    "\n",
    "# configure files location and number of top labels to get.\n",
    "file1 = 'sample_data/user_a_labels.csv'\n",
    "file2 = 'sample_data/user_b_labels.csv'\n",
    "top = 5\n",
    "\n",
    "# load the data\n",
    "df1 = pd.read_csv(file1)\n",
    "df2 = pd.read_csv(file2)\n",
    "df = pd.concat([df1, df2])\n",
    "\n",
    "\n",
    "# filter out to get only top n labels\n",
    "\n",
    "keep_list = df1.groupby('word')['count'].sum().nlargest(5).index.tolist()\n",
    "df1 = df1[df1['word'].isin(keep_list)]\n",
    "keep_list = df2.groupby('word')['count'].sum().nlargest(5).index.tolist()\n",
    "df2 = df2[df2['word'].isin(keep_list)]\n",
    "\n",
    "top = pd.concat([df1, df2])"
   ]
  },
  {
   "cell_type": "markdown",
   "metadata": {},
   "source": [
    "### Panoramic of top labels per user."
   ]
  },
  {
   "cell_type": "code",
   "execution_count": null,
   "metadata": {},
   "outputs": [],
   "source": [
    "alt.Chart(top).mark_line().encode(\n",
    "    x='impressionTime:T',\n",
    "    y='count:Q',\n",
    "    color='word:N',\n",
    "    row='user:N'\n",
    ").properties(\n",
    "    width = 600,\n",
    "    height = 450\n",
    ")"
   ]
  },
  {
   "cell_type": "markdown",
   "metadata": {},
   "source": [
    "### Compare how specific words have been appearing on two different users timelines.\n",
    "\n",
    "Choose a list of words (in this example, 'Barcelona' and 'Partido Popular').\n",
    "Then we show the trending of the two words on the two users profiles."
   ]
  },
  {
   "cell_type": "code",
   "execution_count": null,
   "metadata": {},
   "outputs": [],
   "source": [
    "words_list = ['Barcelona', 'Partido Popular']\n",
    "\n",
    "filtered = df[df['word'].isin(words_list)]\n",
    "alt.Chart(filtered).mark_line().encode(\n",
    "    x='impressionTime:T',\n",
    "    y='count:Q',\n",
    "    color='user:N',\n",
    "    row='word:N'\n",
    ").properties(\n",
    "    width = 600,\n",
    "    height = 300\n",
    ")"
   ]
  },
  {
   "cell_type": "markdown",
   "metadata": {},
   "source": [
    "### At an higher level, we can also just compare the top contents of the two users Newsfeed."
   ]
  },
  {
   "cell_type": "code",
   "execution_count": null,
   "metadata": {},
   "outputs": [],
   "source": [
    "\n",
    "df1 = df1.sort_values('count', axis=0, ascending=False)\n",
    "df2 = df2.sort_values('count', axis=0, ascending=False)\n",
    "\n",
    "user1 = alt.Chart(df1).mark_bar().encode(\n",
    "    x='count:Q',\n",
    "    y=alt.Y(\n",
    "        'word:N',\n",
    "        sort=alt.SortField(\n",
    "            field=\"count:Q\",\n",
    "            order=\"descending\"\n",
    "        )\n",
    "    )\n",
    ").properties(title='user 1')\n",
    "\n",
    "user2 = alt.Chart(df2).mark_bar().encode(\n",
    "    x='count:Q',\n",
    "    y=alt.Y(\n",
    "        'word:N',\n",
    "        sort=alt.SortField(\n",
    "            field=\"count:Q\",\n",
    "            order=\"descending\"\n",
    "        )\n",
    "    )\n",
    ").properties(title='user 2')\n",
    "\n",
    "user1 & user2"
   ]
  },
  {
   "cell_type": "code",
   "execution_count": null,
   "metadata": {},
   "outputs": [],
   "source": []
  }
 ],
 "metadata": {
  "kernelspec": {
   "display_name": "Python 3",
   "language": "python",
   "name": "python3"
  },
  "language_info": {
   "codemirror_mode": {
    "name": "ipython",
    "version": 3
   },
   "file_extension": ".py",
   "mimetype": "text/x-python",
   "name": "python",
   "nbconvert_exporter": "python",
   "pygments_lexer": "ipython3",
   "version": "3.6.8"
  }
 },
 "nbformat": 4,
 "nbformat_minor": 2
}
