{
 "cells": [
  {
   "cell_type": "markdown",
   "metadata": {},
   "source": [
    "# compare suggested videos for two users given a specific video"
   ]
  },
  {
   "cell_type": "markdown",
   "metadata": {},
   "source": [
    "### In order to use this, you need first to use youtube.py in the folder src to download data based on a specific videoId.\n",
    "\n",
    "Then we:\n",
    "1. import all the needed libraries,\n",
    "2. specify the path to the csv file (the output of dashboard/src/youtube.py),\n",
    "3. check that the title of the video corresponds to the one we want to analyze\n",
    "\n",
    "First of all, specify a path to a valid .csv file in the box below."
   ]
  },
  {
   "cell_type": "code",
   "execution_count": null,
   "metadata": {},
   "outputs": [],
   "source": [
    "path = '/home/ubuntu/dashboard/outputs/video4.csv'"
   ]
  },
  {
   "cell_type": "code",
   "execution_count": null,
   "metadata": {},
   "outputs": [],
   "source": [
    "import pandas as pd\n",
    "%matplotlib inline\n",
    "from matplotlib_venn import venn2\n",
    "import matplotlib.pyplot as plt\n",
    "import squarify\n",
    "\n",
    "df = pd.read_csv(path)\n",
    "\n",
    "title = df['sourceTitle'][0]\n",
    "df = df[['watcher','id','related_source','related_videoId','related_title','related_index']]\n",
    "\n",
    "print(title)"
   ]
  },
  {
   "cell_type": "markdown",
   "metadata": {},
   "source": [
    "### Now we need to know how many users have seen that video, and choose two of them in order to compare the videos suggested to each of them."
   ]
  },
  {
   "cell_type": "code",
   "execution_count": null,
   "metadata": {},
   "outputs": [],
   "source": [
    "df.watcher.unique()"
   ]
  },
  {
   "cell_type": "markdown",
   "metadata": {},
   "source": [
    "### We can now pick the two users, then we create two separate datasets."
   ]
  },
  {
   "cell_type": "code",
   "execution_count": null,
   "metadata": {},
   "outputs": [],
   "source": [
    "user1 = 'icecream-pie-tea'\n",
    "user2 = 'milk-quince-alfalfa'\n",
    "\n",
    "df1 = df[df['watcher'] == user1]\n",
    "df2 = df[df['watcher'] == user2]\n"
   ]
  },
  {
   "cell_type": "markdown",
   "metadata": {},
   "source": [
    "### For each of the two users, we need to choose only one id (one specific session of recommended videos).\n",
    "Then we reduce the datasets to that session only, so we can make a comparison.\n",
    "\n",
    "First, choose among the unique values for df1, then for df2. Those will be id1 and id2."
   ]
  },
  {
   "cell_type": "code",
   "execution_count": null,
   "metadata": {},
   "outputs": [],
   "source": [
    "df1.id.unique()"
   ]
  },
  {
   "cell_type": "code",
   "execution_count": null,
   "metadata": {},
   "outputs": [],
   "source": [
    "df2.id.unique()"
   ]
  },
  {
   "cell_type": "code",
   "execution_count": null,
   "metadata": {},
   "outputs": [],
   "source": [
    "id1 = '47c16bdc2358e51110003a626d822a61e6bc908f'\n",
    "id2 = '120bce0960e72e333ebc5f95e48611c6b8d64b20'\n",
    "\n",
    "\n",
    "df1 = df[df['id'] == id1]\n",
    "df2 = df[df['id'] == id2]\n",
    "df1.index = df1.related_index\n",
    "df2.index = df2.related_index\n",
    "\n",
    "df1 = df1[['related_source', 'related_title', 'related_videoId', 'related_index']]\n",
    "df2 = df2[['related_source', 'related_title', 'related_videoId', 'related_index']]"
   ]
  },
  {
   "cell_type": "markdown",
   "metadata": {},
   "source": [
    "### Now we can see which posts appeared to each user after watching the same video."
   ]
  },
  {
   "cell_type": "code",
   "execution_count": null,
   "metadata": {},
   "outputs": [],
   "source": [
    "merge1 = df1[['related_title']].rename(columns={\"related_title\": user1})\n",
    "merge2 = df2[['related_title']].rename(columns={\"related_title\": user2})\n",
    "compare = pd.concat([merge1,merge2], axis=1)\n",
    "compare"
   ]
  },
  {
   "cell_type": "markdown",
   "metadata": {},
   "source": [
    "### Furthermore, we can use venn diagrams to visualize how many videos those users had in common (it is also possible to add a third user)."
   ]
  },
  {
   "cell_type": "code",
   "execution_count": null,
   "metadata": {},
   "outputs": [],
   "source": [
    "fig = plt.figure(figsize=(20,10))\n",
    "plt.title('Video suggestions after: '+title)\n",
    "v = venn2([set(df1.related_videoId), set(df2.related_videoId)], (user1, user2))"
   ]
  },
  {
   "cell_type": "code",
   "execution_count": null,
   "metadata": {},
   "outputs": [],
   "source": [
    "df1[\"uniqueId\"] = df1[\"related_index\"].map(str) + df1[\"related_videoId\"]\n",
    "df2[\"uniqueId\"] = df2[\"related_index\"].map(str) + df2[\"related_videoId\"]\n",
    "\n",
    "fig = plt.figure(figsize=(20,10))\n",
    "plt.title('Video suggestions after: '+title+'\\n With both videoId and position in the suggested list in common.')\n",
    "v2 = venn2([set(df1.uniqueId), set(df2.uniqueId)], (user1, user2))"
   ]
  },
  {
   "cell_type": "markdown",
   "metadata": {},
   "source": [
    "### Or see the most common suggested video sources (Youtube channels) for each user."
   ]
  },
  {
   "cell_type": "code",
   "execution_count": null,
   "metadata": {},
   "outputs": [],
   "source": [
    "channels1 = df1.related_source.value_counts().rename_axis('name').to_frame('Count')\n",
    "channels2 = df2.related_source.value_counts().rename_axis('name').to_frame('Count')\n",
    "\n",
    "fig, (ax, ax2) = plt.subplots(ncols=2, figsize=(18, 8))\n",
    "\n",
    "\n",
    "channels1.plot(kind='barh', ax=ax, title=user1)\n",
    "channels2.plot(kind='barh', ax=ax2, title=user2)\n",
    "ax2 = ax2.yaxis.set_label_position(\"right\")\n",
    "\n",
    "plt.tight_layout()"
   ]
  },
  {
   "cell_type": "code",
   "execution_count": null,
   "metadata": {},
   "outputs": [],
   "source": [
    "fig = plt.figure(figsize=(15,10))\n",
    "plt.title('Suggested channels after watching: '+title+'\\n User: '+user1)\n",
    "squarify.plot(sizes=channels1.Count, label=channels1.index, alpha=.8)\n",
    "plt.axis('off')\n",
    "plt.show()"
   ]
  },
  {
   "cell_type": "code",
   "execution_count": null,
   "metadata": {},
   "outputs": [],
   "source": [
    "fig = plt.figure(figsize=(15,10))\n",
    "plt.title('Suggested channels after watching: '+title+'\\n User: '+user2)\n",
    "squarify.plot(sizes=channels2.Count, label=channels2.index, alpha=.8)\n",
    "plt.axis('off')\n",
    "plt.show()"
   ]
  },
  {
   "cell_type": "code",
   "execution_count": null,
   "metadata": {},
   "outputs": [],
   "source": []
  }
 ],
 "metadata": {
  "kernelspec": {
   "display_name": "Python 3",
   "language": "python",
   "name": "python3"
  },
  "language_info": {
   "codemirror_mode": {
    "name": "ipython",
    "version": 3
   },
   "file_extension": ".py",
   "mimetype": "text/x-python",
   "name": "python",
   "nbconvert_exporter": "python",
   "pygments_lexer": "ipython3",
   "version": "3.6.8"
  }
 },
 "nbformat": 4,
 "nbformat_minor": 2
}
