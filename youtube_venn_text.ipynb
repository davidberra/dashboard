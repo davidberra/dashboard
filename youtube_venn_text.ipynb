{
 "cells": [
  {
   "cell_type": "markdown",
   "metadata": {},
   "source": [
    "# Generating Venn diagrams from \"youtube.py --video\" outputs"
   ]
  },
  {
   "cell_type": "markdown",
   "metadata": {},
   "source": [
    "## Load libraries and define functions"
   ]
  },
  {
   "cell_type": "code",
   "execution_count": null,
   "metadata": {},
   "outputs": [],
   "source": [
    "import pandas as pd\n",
    "%matplotlib inline\n",
    "from matplotlib_venn import venn2, venn3\n",
    "import matplotlib.pyplot as plt\n",
    "import numpy as np\n",
    "import math, itertools\n",
    "from matplotlib import pyplot as plt\n",
    "from matplotlib_venn import venn2, venn3\n",
    "import numpy as np\n",
    "\n",
    "# Generate list index for itertools combinations\n",
    "def gen_index(n):\n",
    "    x = -1\n",
    "    while True:       \n",
    "        while True:\n",
    "            x = x + 1\n",
    "            if bin(x).count('1') == n:\n",
    "                break\n",
    "        yield x\n",
    "\n",
    "# Generate all combinations of intersections\n",
    "def make_intersections(sets):\n",
    "    l = [None] * 2**len(sets)\n",
    "    for i in range(1, len(sets) + 1):\n",
    "        ind = gen_index(i)\n",
    "        for subset in itertools.combinations(sets, i):\n",
    "            inter = set.intersection(*subset)\n",
    "            l[next(ind)] = inter\n",
    "    return l\n",
    "\n",
    "# Get weird reversed binary string id for venn\n",
    "def number2venn_id(x, n_fill):\n",
    "    id = bin(x)[2:].zfill(n_fill)\n",
    "    id = id[::-1]\n",
    "    return id\n",
    "\n",
    "# Iterate over all combinations and remove duplicates from intersections with\n",
    "# more sets\n",
    "def sets2dict(sets):\n",
    "    l = make_intersections(sets)\n",
    "    d = {}\n",
    "    for i in range(1, len(l)):\n",
    "        d[number2venn_id(i, len(sets))] = l[i]\n",
    "        for j in range(1, len(l)):\n",
    "            if bin(j).count('1') < bin(i).count('1'):\n",
    "                l[j] = l[j] - l[i]\n",
    "                d[number2venn_id(j, len(sets))] = l[j] - l[i]\n",
    "    return d"
   ]
  },
  {
   "cell_type": "markdown",
   "metadata": {},
   "source": [
    "## Load data (the youtube.py --video csv output specified as path)"
   ]
  },
  {
   "cell_type": "code",
   "execution_count": null,
   "metadata": {},
   "outputs": [],
   "source": [
    "path = '/home/ubuntu/dashboard/outputs/video5.csv'\n",
    "\n",
    "df = pd.read_csv(path)\n",
    "\n",
    "title = df['sourceTitle'][0]\n",
    "df = df[['watcher','id','related_source','related_videoId','related_title','related_index']]\n",
    "\n",
    "print(title)"
   ]
  },
  {
   "cell_type": "markdown",
   "metadata": {},
   "source": [
    "## Clean the data"
   ]
  },
  {
   "cell_type": "markdown",
   "metadata": {},
   "source": [
    "#### First, specify three users  among the unique ones you have in your dataset"
   ]
  },
  {
   "cell_type": "code",
   "execution_count": null,
   "metadata": {},
   "outputs": [],
   "source": [
    "df.watcher.unique()"
   ]
  },
  {
   "cell_type": "code",
   "execution_count": null,
   "metadata": {},
   "outputs": [],
   "source": [
    "user1, user2, user3 = df.watcher.unique()\n",
    "\n",
    "df1 = df[df.watcher == user1]\n",
    "df2 = df[df.watcher == user2]\n",
    "df3 = df[df.watcher == user3]"
   ]
  },
  {
   "cell_type": "markdown",
   "metadata": {},
   "source": [
    "#### Then, you need to pick just one session (id) per user."
   ]
  },
  {
   "cell_type": "code",
   "execution_count": null,
   "metadata": {},
   "outputs": [],
   "source": [
    "df1.id.unique()"
   ]
  },
  {
   "cell_type": "code",
   "execution_count": null,
   "metadata": {},
   "outputs": [],
   "source": [
    "df2.id.unique()"
   ]
  },
  {
   "cell_type": "code",
   "execution_count": null,
   "metadata": {},
   "outputs": [],
   "source": [
    "df3.id.unique()"
   ]
  },
  {
   "cell_type": "code",
   "execution_count": null,
   "metadata": {},
   "outputs": [],
   "source": [
    "df1 = df1[df1.id == '47c16bdc2358e51110003a626d822a61e6bc908f']\n",
    "df2 = df2[df2.id == '120bce0960e72e333ebc5f95e48611c6b8d64b20']\n",
    "df3 = df3[df3.id == 'b2a48bdfddc7a9a0cd0f706da9c850dc790d7c41']"
   ]
  },
  {
   "cell_type": "markdown",
   "metadata": {},
   "source": [
    "#### Then we create the three clean sets with one id each"
   ]
  },
  {
   "cell_type": "code",
   "execution_count": null,
   "metadata": {},
   "outputs": [],
   "source": [
    "A = set(df1.related_source)\n",
    "B = set(df2.related_source)\n",
    "C = set(df3.related_source)\n",
    "\n",
    "sets_source = [A, B, C]"
   ]
  },
  {
   "cell_type": "markdown",
   "metadata": {},
   "source": [
    "## Then we apply our function and visualize the venn diagram"
   ]
  },
  {
   "cell_type": "markdown",
   "metadata": {},
   "source": [
    "### Source name"
   ]
  },
  {
   "cell_type": "code",
   "execution_count": null,
   "metadata": {},
   "outputs": [],
   "source": [
    "d = sets2dict(sets_source)\n",
    "\n",
    "# Plot it\n",
    "plt.figure(figsize=(40,20))\n",
    "h = venn3(sets_source, (user1, user2, user3))\n",
    "for k, v in d.items():\n",
    "   l = h.get_label_by_id(k)\n",
    "   if l:\n",
    "       l.set_fontsize(12)\n",
    "       l.set_text('\\n'.join(sorted(v)))\n"
   ]
  }
 ],
 "metadata": {
  "kernelspec": {
   "display_name": "Python 3",
   "language": "python",
   "name": "python3"
  },
  "language_info": {
   "codemirror_mode": {
    "name": "ipython",
    "version": 3
   },
   "file_extension": ".py",
   "mimetype": "text/x-python",
   "name": "python",
   "nbconvert_exporter": "python",
   "pygments_lexer": "ipython3",
   "version": "3.6.8"
  }
 },
 "nbformat": 4,
 "nbformat_minor": 2
}
